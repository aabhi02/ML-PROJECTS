{
 "cells": [
  {
   "cell_type": "code",
   "execution_count": 1,
   "id": "26ecc8d1",
   "metadata": {},
   "outputs": [],
   "source": [
    "import pandas as pd\n",
    "import numpy as np"
   ]
  },
  {
   "cell_type": "code",
   "execution_count": 2,
   "id": "62746937",
   "metadata": {},
   "outputs": [
    {
     "data": {
      "text/html": [
       "<div>\n",
       "<style scoped>\n",
       "    .dataframe tbody tr th:only-of-type {\n",
       "        vertical-align: middle;\n",
       "    }\n",
       "\n",
       "    .dataframe tbody tr th {\n",
       "        vertical-align: top;\n",
       "    }\n",
       "\n",
       "    .dataframe thead th {\n",
       "        text-align: right;\n",
       "    }\n",
       "</style>\n",
       "<table border=\"1\" class=\"dataframe\">\n",
       "  <thead>\n",
       "    <tr style=\"text-align: right;\">\n",
       "      <th></th>\n",
       "      <th>dt</th>\n",
       "      <th>LandAverageTemperature</th>\n",
       "      <th>LandAverageTemperatureUncertainty</th>\n",
       "      <th>LandMaxTemperature</th>\n",
       "      <th>LandMaxTemperatureUncertainty</th>\n",
       "      <th>LandMinTemperature</th>\n",
       "      <th>LandMinTemperatureUncertainty</th>\n",
       "      <th>LandAndOceanAverageTemperature</th>\n",
       "      <th>LandAndOceanAverageTemperatureUncertainty</th>\n",
       "    </tr>\n",
       "  </thead>\n",
       "  <tbody>\n",
       "    <tr>\n",
       "      <th>0</th>\n",
       "      <td>1750-01-01</td>\n",
       "      <td>3.034</td>\n",
       "      <td>3.574</td>\n",
       "      <td>NaN</td>\n",
       "      <td>NaN</td>\n",
       "      <td>NaN</td>\n",
       "      <td>NaN</td>\n",
       "      <td>NaN</td>\n",
       "      <td>NaN</td>\n",
       "    </tr>\n",
       "    <tr>\n",
       "      <th>1</th>\n",
       "      <td>1750-02-01</td>\n",
       "      <td>3.083</td>\n",
       "      <td>3.702</td>\n",
       "      <td>NaN</td>\n",
       "      <td>NaN</td>\n",
       "      <td>NaN</td>\n",
       "      <td>NaN</td>\n",
       "      <td>NaN</td>\n",
       "      <td>NaN</td>\n",
       "    </tr>\n",
       "    <tr>\n",
       "      <th>2</th>\n",
       "      <td>1750-03-01</td>\n",
       "      <td>5.626</td>\n",
       "      <td>3.076</td>\n",
       "      <td>NaN</td>\n",
       "      <td>NaN</td>\n",
       "      <td>NaN</td>\n",
       "      <td>NaN</td>\n",
       "      <td>NaN</td>\n",
       "      <td>NaN</td>\n",
       "    </tr>\n",
       "    <tr>\n",
       "      <th>3</th>\n",
       "      <td>1750-04-01</td>\n",
       "      <td>8.490</td>\n",
       "      <td>2.451</td>\n",
       "      <td>NaN</td>\n",
       "      <td>NaN</td>\n",
       "      <td>NaN</td>\n",
       "      <td>NaN</td>\n",
       "      <td>NaN</td>\n",
       "      <td>NaN</td>\n",
       "    </tr>\n",
       "    <tr>\n",
       "      <th>4</th>\n",
       "      <td>1750-05-01</td>\n",
       "      <td>11.573</td>\n",
       "      <td>2.072</td>\n",
       "      <td>NaN</td>\n",
       "      <td>NaN</td>\n",
       "      <td>NaN</td>\n",
       "      <td>NaN</td>\n",
       "      <td>NaN</td>\n",
       "      <td>NaN</td>\n",
       "    </tr>\n",
       "  </tbody>\n",
       "</table>\n",
       "</div>"
      ],
      "text/plain": [
       "           dt  LandAverageTemperature  LandAverageTemperatureUncertainty  \\\n",
       "0  1750-01-01                   3.034                              3.574   \n",
       "1  1750-02-01                   3.083                              3.702   \n",
       "2  1750-03-01                   5.626                              3.076   \n",
       "3  1750-04-01                   8.490                              2.451   \n",
       "4  1750-05-01                  11.573                              2.072   \n",
       "\n",
       "   LandMaxTemperature  LandMaxTemperatureUncertainty  LandMinTemperature  \\\n",
       "0                 NaN                            NaN                 NaN   \n",
       "1                 NaN                            NaN                 NaN   \n",
       "2                 NaN                            NaN                 NaN   \n",
       "3                 NaN                            NaN                 NaN   \n",
       "4                 NaN                            NaN                 NaN   \n",
       "\n",
       "   LandMinTemperatureUncertainty  LandAndOceanAverageTemperature  \\\n",
       "0                            NaN                             NaN   \n",
       "1                            NaN                             NaN   \n",
       "2                            NaN                             NaN   \n",
       "3                            NaN                             NaN   \n",
       "4                            NaN                             NaN   \n",
       "\n",
       "   LandAndOceanAverageTemperatureUncertainty  \n",
       "0                                        NaN  \n",
       "1                                        NaN  \n",
       "2                                        NaN  \n",
       "3                                        NaN  \n",
       "4                                        NaN  "
      ]
     },
     "execution_count": 2,
     "metadata": {},
     "output_type": "execute_result"
    }
   ],
   "source": [
    "data=pd.read_csv('GlobalTemperatures.csv')\n",
    "data.head()"
   ]
  },
  {
   "cell_type": "code",
   "execution_count": 3,
   "id": "c76db7f6",
   "metadata": {},
   "outputs": [
    {
     "name": "stdout",
     "output_type": "stream",
     "text": [
      "<class 'pandas.core.frame.DataFrame'>\n",
      "RangeIndex: 3192 entries, 0 to 3191\n",
      "Data columns (total 9 columns):\n",
      " #   Column                                     Non-Null Count  Dtype  \n",
      "---  ------                                     --------------  -----  \n",
      " 0   dt                                         3192 non-null   object \n",
      " 1   LandAverageTemperature                     3180 non-null   float64\n",
      " 2   LandAverageTemperatureUncertainty          3180 non-null   float64\n",
      " 3   LandMaxTemperature                         1992 non-null   float64\n",
      " 4   LandMaxTemperatureUncertainty              1992 non-null   float64\n",
      " 5   LandMinTemperature                         1992 non-null   float64\n",
      " 6   LandMinTemperatureUncertainty              1992 non-null   float64\n",
      " 7   LandAndOceanAverageTemperature             1992 non-null   float64\n",
      " 8   LandAndOceanAverageTemperatureUncertainty  1992 non-null   float64\n",
      "dtypes: float64(8), object(1)\n",
      "memory usage: 224.6+ KB\n"
     ]
    }
   ],
   "source": [
    "data.info()"
   ]
  },
  {
   "cell_type": "code",
   "execution_count": 4,
   "id": "8e0c5369",
   "metadata": {
    "scrolled": true
   },
   "outputs": [
    {
     "data": {
      "text/plain": [
       "LandAverageTemperature                       1.000000\n",
       "LandAverageTemperatureUncertainty           -0.204191\n",
       "LandMaxTemperature                           0.995807\n",
       "LandMaxTemperatureUncertainty               -0.108462\n",
       "LandMinTemperature                           0.995611\n",
       "LandMinTemperatureUncertainty               -0.167451\n",
       "LandAndOceanAverageTemperature               0.988066\n",
       "LandAndOceanAverageTemperatureUncertainty   -0.131412\n",
       "Name: LandAverageTemperature, dtype: float64"
      ]
     },
     "execution_count": 4,
     "metadata": {},
     "output_type": "execute_result"
    }
   ],
   "source": [
    "data.corr(numeric_only=True)['LandAverageTemperature']"
   ]
  },
  {
   "cell_type": "code",
   "execution_count": 5,
   "id": "c59cc479",
   "metadata": {},
   "outputs": [],
   "source": [
    "fill=['LandAverageTemperature', 'LandAverageTemperatureUncertainty', 'LandMaxTemperature', 'LandMaxTemperatureUncertainty',\n",
    "     'LandMinTemperature', 'LandMinTemperatureUncertainty', 'LandAndOceanAverageTemperature', \n",
    "      'LandAndOceanAverageTemperatureUncertainty']\n",
    "\n",
    "for f in fill:\n",
    "    data[f].fillna(data[f].mode()[0], inplace=True)"
   ]
  },
  {
   "cell_type": "code",
   "execution_count": 6,
   "id": "08071d56",
   "metadata": {},
   "outputs": [
    {
     "data": {
      "text/html": [
       "<div>\n",
       "<style scoped>\n",
       "    .dataframe tbody tr th:only-of-type {\n",
       "        vertical-align: middle;\n",
       "    }\n",
       "\n",
       "    .dataframe tbody tr th {\n",
       "        vertical-align: top;\n",
       "    }\n",
       "\n",
       "    .dataframe thead th {\n",
       "        text-align: right;\n",
       "    }\n",
       "</style>\n",
       "<table border=\"1\" class=\"dataframe\">\n",
       "  <thead>\n",
       "    <tr style=\"text-align: right;\">\n",
       "      <th></th>\n",
       "      <th>dt</th>\n",
       "      <th>LandAverageTemperature</th>\n",
       "      <th>LandAverageTemperatureUncertainty</th>\n",
       "      <th>LandMaxTemperature</th>\n",
       "      <th>LandMaxTemperatureUncertainty</th>\n",
       "      <th>LandMinTemperature</th>\n",
       "      <th>LandMinTemperatureUncertainty</th>\n",
       "      <th>LandAndOceanAverageTemperature</th>\n",
       "      <th>LandAndOceanAverageTemperatureUncertainty</th>\n",
       "    </tr>\n",
       "  </thead>\n",
       "  <tbody>\n",
       "    <tr>\n",
       "      <th>0</th>\n",
       "      <td>1750-01-01</td>\n",
       "      <td>3.034</td>\n",
       "      <td>3.574</td>\n",
       "      <td>8.555</td>\n",
       "      <td>0.093</td>\n",
       "      <td>-1.139</td>\n",
       "      <td>0.237</td>\n",
       "      <td>15.005</td>\n",
       "      <td>0.061</td>\n",
       "    </tr>\n",
       "    <tr>\n",
       "      <th>1</th>\n",
       "      <td>1750-02-01</td>\n",
       "      <td>3.083</td>\n",
       "      <td>3.702</td>\n",
       "      <td>8.555</td>\n",
       "      <td>0.093</td>\n",
       "      <td>-1.139</td>\n",
       "      <td>0.237</td>\n",
       "      <td>15.005</td>\n",
       "      <td>0.061</td>\n",
       "    </tr>\n",
       "    <tr>\n",
       "      <th>2</th>\n",
       "      <td>1750-03-01</td>\n",
       "      <td>5.626</td>\n",
       "      <td>3.076</td>\n",
       "      <td>8.555</td>\n",
       "      <td>0.093</td>\n",
       "      <td>-1.139</td>\n",
       "      <td>0.237</td>\n",
       "      <td>15.005</td>\n",
       "      <td>0.061</td>\n",
       "    </tr>\n",
       "    <tr>\n",
       "      <th>3</th>\n",
       "      <td>1750-04-01</td>\n",
       "      <td>8.490</td>\n",
       "      <td>2.451</td>\n",
       "      <td>8.555</td>\n",
       "      <td>0.093</td>\n",
       "      <td>-1.139</td>\n",
       "      <td>0.237</td>\n",
       "      <td>15.005</td>\n",
       "      <td>0.061</td>\n",
       "    </tr>\n",
       "    <tr>\n",
       "      <th>4</th>\n",
       "      <td>1750-05-01</td>\n",
       "      <td>11.573</td>\n",
       "      <td>2.072</td>\n",
       "      <td>8.555</td>\n",
       "      <td>0.093</td>\n",
       "      <td>-1.139</td>\n",
       "      <td>0.237</td>\n",
       "      <td>15.005</td>\n",
       "      <td>0.061</td>\n",
       "    </tr>\n",
       "  </tbody>\n",
       "</table>\n",
       "</div>"
      ],
      "text/plain": [
       "           dt  LandAverageTemperature  LandAverageTemperatureUncertainty  \\\n",
       "0  1750-01-01                   3.034                              3.574   \n",
       "1  1750-02-01                   3.083                              3.702   \n",
       "2  1750-03-01                   5.626                              3.076   \n",
       "3  1750-04-01                   8.490                              2.451   \n",
       "4  1750-05-01                  11.573                              2.072   \n",
       "\n",
       "   LandMaxTemperature  LandMaxTemperatureUncertainty  LandMinTemperature  \\\n",
       "0               8.555                          0.093              -1.139   \n",
       "1               8.555                          0.093              -1.139   \n",
       "2               8.555                          0.093              -1.139   \n",
       "3               8.555                          0.093              -1.139   \n",
       "4               8.555                          0.093              -1.139   \n",
       "\n",
       "   LandMinTemperatureUncertainty  LandAndOceanAverageTemperature  \\\n",
       "0                          0.237                          15.005   \n",
       "1                          0.237                          15.005   \n",
       "2                          0.237                          15.005   \n",
       "3                          0.237                          15.005   \n",
       "4                          0.237                          15.005   \n",
       "\n",
       "   LandAndOceanAverageTemperatureUncertainty  \n",
       "0                                      0.061  \n",
       "1                                      0.061  \n",
       "2                                      0.061  \n",
       "3                                      0.061  \n",
       "4                                      0.061  "
      ]
     },
     "execution_count": 6,
     "metadata": {},
     "output_type": "execute_result"
    }
   ],
   "source": [
    "data.head()"
   ]
  },
  {
   "cell_type": "code",
   "execution_count": 7,
   "id": "3a6da613",
   "metadata": {},
   "outputs": [
    {
     "data": {
      "text/plain": [
       "array([['1750', '01', '01'],\n",
       "       ['1750', '02', '01'],\n",
       "       ['1750', '03', '01'],\n",
       "       ['1750', '04', '01'],\n",
       "       ['1750', '05', '01']], dtype='<U4')"
      ]
     },
     "execution_count": 7,
     "metadata": {},
     "output_type": "execute_result"
    }
   ],
   "source": [
    "date_col=np.array([i.split('-') for i in data.dt])\n",
    "date_col[:5]"
   ]
  },
  {
   "cell_type": "code",
   "execution_count": 8,
   "id": "3b5fce59",
   "metadata": {},
   "outputs": [],
   "source": [
    "data['Day']=[int(i[2]) for i in date_col]\n",
    "data['Month']=[int(i[1]) for i in date_col]\n",
    "data['Year']=[int(i[0]) for i in date_col]"
   ]
  },
  {
   "cell_type": "code",
   "execution_count": 9,
   "id": "1f584428",
   "metadata": {},
   "outputs": [
    {
     "data": {
      "text/html": [
       "<div>\n",
       "<style scoped>\n",
       "    .dataframe tbody tr th:only-of-type {\n",
       "        vertical-align: middle;\n",
       "    }\n",
       "\n",
       "    .dataframe tbody tr th {\n",
       "        vertical-align: top;\n",
       "    }\n",
       "\n",
       "    .dataframe thead th {\n",
       "        text-align: right;\n",
       "    }\n",
       "</style>\n",
       "<table border=\"1\" class=\"dataframe\">\n",
       "  <thead>\n",
       "    <tr style=\"text-align: right;\">\n",
       "      <th></th>\n",
       "      <th>dt</th>\n",
       "      <th>LandAverageTemperature</th>\n",
       "      <th>LandAverageTemperatureUncertainty</th>\n",
       "      <th>LandMaxTemperature</th>\n",
       "      <th>LandMaxTemperatureUncertainty</th>\n",
       "      <th>LandMinTemperature</th>\n",
       "      <th>LandMinTemperatureUncertainty</th>\n",
       "      <th>LandAndOceanAverageTemperature</th>\n",
       "      <th>LandAndOceanAverageTemperatureUncertainty</th>\n",
       "      <th>Day</th>\n",
       "      <th>Month</th>\n",
       "      <th>Year</th>\n",
       "    </tr>\n",
       "  </thead>\n",
       "  <tbody>\n",
       "    <tr>\n",
       "      <th>0</th>\n",
       "      <td>1750-01-01</td>\n",
       "      <td>3.034</td>\n",
       "      <td>3.574</td>\n",
       "      <td>8.555</td>\n",
       "      <td>0.093</td>\n",
       "      <td>-1.139</td>\n",
       "      <td>0.237</td>\n",
       "      <td>15.005</td>\n",
       "      <td>0.061</td>\n",
       "      <td>1</td>\n",
       "      <td>1</td>\n",
       "      <td>1750</td>\n",
       "    </tr>\n",
       "    <tr>\n",
       "      <th>1</th>\n",
       "      <td>1750-02-01</td>\n",
       "      <td>3.083</td>\n",
       "      <td>3.702</td>\n",
       "      <td>8.555</td>\n",
       "      <td>0.093</td>\n",
       "      <td>-1.139</td>\n",
       "      <td>0.237</td>\n",
       "      <td>15.005</td>\n",
       "      <td>0.061</td>\n",
       "      <td>1</td>\n",
       "      <td>2</td>\n",
       "      <td>1750</td>\n",
       "    </tr>\n",
       "    <tr>\n",
       "      <th>2</th>\n",
       "      <td>1750-03-01</td>\n",
       "      <td>5.626</td>\n",
       "      <td>3.076</td>\n",
       "      <td>8.555</td>\n",
       "      <td>0.093</td>\n",
       "      <td>-1.139</td>\n",
       "      <td>0.237</td>\n",
       "      <td>15.005</td>\n",
       "      <td>0.061</td>\n",
       "      <td>1</td>\n",
       "      <td>3</td>\n",
       "      <td>1750</td>\n",
       "    </tr>\n",
       "    <tr>\n",
       "      <th>3</th>\n",
       "      <td>1750-04-01</td>\n",
       "      <td>8.490</td>\n",
       "      <td>2.451</td>\n",
       "      <td>8.555</td>\n",
       "      <td>0.093</td>\n",
       "      <td>-1.139</td>\n",
       "      <td>0.237</td>\n",
       "      <td>15.005</td>\n",
       "      <td>0.061</td>\n",
       "      <td>1</td>\n",
       "      <td>4</td>\n",
       "      <td>1750</td>\n",
       "    </tr>\n",
       "    <tr>\n",
       "      <th>4</th>\n",
       "      <td>1750-05-01</td>\n",
       "      <td>11.573</td>\n",
       "      <td>2.072</td>\n",
       "      <td>8.555</td>\n",
       "      <td>0.093</td>\n",
       "      <td>-1.139</td>\n",
       "      <td>0.237</td>\n",
       "      <td>15.005</td>\n",
       "      <td>0.061</td>\n",
       "      <td>1</td>\n",
       "      <td>5</td>\n",
       "      <td>1750</td>\n",
       "    </tr>\n",
       "  </tbody>\n",
       "</table>\n",
       "</div>"
      ],
      "text/plain": [
       "           dt  LandAverageTemperature  LandAverageTemperatureUncertainty  \\\n",
       "0  1750-01-01                   3.034                              3.574   \n",
       "1  1750-02-01                   3.083                              3.702   \n",
       "2  1750-03-01                   5.626                              3.076   \n",
       "3  1750-04-01                   8.490                              2.451   \n",
       "4  1750-05-01                  11.573                              2.072   \n",
       "\n",
       "   LandMaxTemperature  LandMaxTemperatureUncertainty  LandMinTemperature  \\\n",
       "0               8.555                          0.093              -1.139   \n",
       "1               8.555                          0.093              -1.139   \n",
       "2               8.555                          0.093              -1.139   \n",
       "3               8.555                          0.093              -1.139   \n",
       "4               8.555                          0.093              -1.139   \n",
       "\n",
       "   LandMinTemperatureUncertainty  LandAndOceanAverageTemperature  \\\n",
       "0                          0.237                          15.005   \n",
       "1                          0.237                          15.005   \n",
       "2                          0.237                          15.005   \n",
       "3                          0.237                          15.005   \n",
       "4                          0.237                          15.005   \n",
       "\n",
       "   LandAndOceanAverageTemperatureUncertainty  Day  Month  Year  \n",
       "0                                      0.061    1      1  1750  \n",
       "1                                      0.061    1      2  1750  \n",
       "2                                      0.061    1      3  1750  \n",
       "3                                      0.061    1      4  1750  \n",
       "4                                      0.061    1      5  1750  "
      ]
     },
     "execution_count": 9,
     "metadata": {},
     "output_type": "execute_result"
    }
   ],
   "source": [
    "data.head()"
   ]
  },
  {
   "cell_type": "code",
   "execution_count": 10,
   "id": "91f3c8ed",
   "metadata": {
    "scrolled": true
   },
   "outputs": [
    {
     "data": {
      "text/plain": [
       "LandAverageTemperature                       1.000000\n",
       "LandAverageTemperatureUncertainty           -0.206745\n",
       "LandMaxTemperature                           0.623542\n",
       "LandMaxTemperatureUncertainty               -0.057429\n",
       "LandMinTemperature                           0.689714\n",
       "LandMinTemperatureUncertainty               -0.110681\n",
       "LandAndOceanAverageTemperature               0.760520\n",
       "LandAndOceanAverageTemperatureUncertainty   -0.062260\n",
       "Day                                               NaN\n",
       "Month                                        0.246504\n",
       "Year                                         0.073606\n",
       "Name: LandAverageTemperature, dtype: float64"
      ]
     },
     "execution_count": 10,
     "metadata": {},
     "output_type": "execute_result"
    }
   ],
   "source": [
    "data.corr(numeric_only=True)['LandAverageTemperature']"
   ]
  },
  {
   "cell_type": "code",
   "execution_count": 11,
   "id": "960a21d4",
   "metadata": {},
   "outputs": [],
   "source": [
    "data.drop(['Day', 'dt'], axis=1, inplace=True)"
   ]
  },
  {
   "cell_type": "code",
   "execution_count": 12,
   "id": "4633f76f",
   "metadata": {},
   "outputs": [
    {
     "data": {
      "text/html": [
       "<div>\n",
       "<style scoped>\n",
       "    .dataframe tbody tr th:only-of-type {\n",
       "        vertical-align: middle;\n",
       "    }\n",
       "\n",
       "    .dataframe tbody tr th {\n",
       "        vertical-align: top;\n",
       "    }\n",
       "\n",
       "    .dataframe thead th {\n",
       "        text-align: right;\n",
       "    }\n",
       "</style>\n",
       "<table border=\"1\" class=\"dataframe\">\n",
       "  <thead>\n",
       "    <tr style=\"text-align: right;\">\n",
       "      <th></th>\n",
       "      <th>LandAverageTemperature</th>\n",
       "      <th>LandAverageTemperatureUncertainty</th>\n",
       "      <th>LandMaxTemperature</th>\n",
       "      <th>LandMaxTemperatureUncertainty</th>\n",
       "      <th>LandMinTemperature</th>\n",
       "      <th>LandMinTemperatureUncertainty</th>\n",
       "      <th>LandAndOceanAverageTemperature</th>\n",
       "      <th>LandAndOceanAverageTemperatureUncertainty</th>\n",
       "      <th>Month</th>\n",
       "      <th>Year</th>\n",
       "    </tr>\n",
       "  </thead>\n",
       "  <tbody>\n",
       "    <tr>\n",
       "      <th>0</th>\n",
       "      <td>3.034</td>\n",
       "      <td>3.574</td>\n",
       "      <td>8.555</td>\n",
       "      <td>0.093</td>\n",
       "      <td>-1.139</td>\n",
       "      <td>0.237</td>\n",
       "      <td>15.005</td>\n",
       "      <td>0.061</td>\n",
       "      <td>1</td>\n",
       "      <td>0</td>\n",
       "    </tr>\n",
       "    <tr>\n",
       "      <th>1</th>\n",
       "      <td>3.083</td>\n",
       "      <td>3.702</td>\n",
       "      <td>8.555</td>\n",
       "      <td>0.093</td>\n",
       "      <td>-1.139</td>\n",
       "      <td>0.237</td>\n",
       "      <td>15.005</td>\n",
       "      <td>0.061</td>\n",
       "      <td>2</td>\n",
       "      <td>0</td>\n",
       "    </tr>\n",
       "    <tr>\n",
       "      <th>2</th>\n",
       "      <td>5.626</td>\n",
       "      <td>3.076</td>\n",
       "      <td>8.555</td>\n",
       "      <td>0.093</td>\n",
       "      <td>-1.139</td>\n",
       "      <td>0.237</td>\n",
       "      <td>15.005</td>\n",
       "      <td>0.061</td>\n",
       "      <td>3</td>\n",
       "      <td>0</td>\n",
       "    </tr>\n",
       "    <tr>\n",
       "      <th>3</th>\n",
       "      <td>8.490</td>\n",
       "      <td>2.451</td>\n",
       "      <td>8.555</td>\n",
       "      <td>0.093</td>\n",
       "      <td>-1.139</td>\n",
       "      <td>0.237</td>\n",
       "      <td>15.005</td>\n",
       "      <td>0.061</td>\n",
       "      <td>4</td>\n",
       "      <td>0</td>\n",
       "    </tr>\n",
       "    <tr>\n",
       "      <th>4</th>\n",
       "      <td>11.573</td>\n",
       "      <td>2.072</td>\n",
       "      <td>8.555</td>\n",
       "      <td>0.093</td>\n",
       "      <td>-1.139</td>\n",
       "      <td>0.237</td>\n",
       "      <td>15.005</td>\n",
       "      <td>0.061</td>\n",
       "      <td>5</td>\n",
       "      <td>0</td>\n",
       "    </tr>\n",
       "  </tbody>\n",
       "</table>\n",
       "</div>"
      ],
      "text/plain": [
       "   LandAverageTemperature  LandAverageTemperatureUncertainty  \\\n",
       "0                   3.034                              3.574   \n",
       "1                   3.083                              3.702   \n",
       "2                   5.626                              3.076   \n",
       "3                   8.490                              2.451   \n",
       "4                  11.573                              2.072   \n",
       "\n",
       "   LandMaxTemperature  LandMaxTemperatureUncertainty  LandMinTemperature  \\\n",
       "0               8.555                          0.093              -1.139   \n",
       "1               8.555                          0.093              -1.139   \n",
       "2               8.555                          0.093              -1.139   \n",
       "3               8.555                          0.093              -1.139   \n",
       "4               8.555                          0.093              -1.139   \n",
       "\n",
       "   LandMinTemperatureUncertainty  LandAndOceanAverageTemperature  \\\n",
       "0                          0.237                          15.005   \n",
       "1                          0.237                          15.005   \n",
       "2                          0.237                          15.005   \n",
       "3                          0.237                          15.005   \n",
       "4                          0.237                          15.005   \n",
       "\n",
       "   LandAndOceanAverageTemperatureUncertainty  Month  Year  \n",
       "0                                      0.061      1     0  \n",
       "1                                      0.061      2     0  \n",
       "2                                      0.061      3     0  \n",
       "3                                      0.061      4     0  \n",
       "4                                      0.061      5     0  "
      ]
     },
     "execution_count": 12,
     "metadata": {},
     "output_type": "execute_result"
    }
   ],
   "source": [
    "from sklearn.preprocessing import LabelEncoder\n",
    "encoder=LabelEncoder()\n",
    "data.Year=encoder.fit_transform(data.Year)\n",
    "data.head()"
   ]
  },
  {
   "cell_type": "code",
   "execution_count": 13,
   "id": "ebc312ca",
   "metadata": {},
   "outputs": [
    {
     "data": {
      "text/plain": [
       "LandAverageTemperature                       1.000000\n",
       "LandAverageTemperatureUncertainty           -0.206745\n",
       "LandMaxTemperature                           0.623542\n",
       "LandMaxTemperatureUncertainty               -0.057429\n",
       "LandMinTemperature                           0.689714\n",
       "LandMinTemperatureUncertainty               -0.110681\n",
       "LandAndOceanAverageTemperature               0.760520\n",
       "LandAndOceanAverageTemperatureUncertainty   -0.062260\n",
       "Month                                        0.246504\n",
       "Year                                         0.073606\n",
       "Name: LandAverageTemperature, dtype: float64"
      ]
     },
     "execution_count": 13,
     "metadata": {},
     "output_type": "execute_result"
    }
   ],
   "source": [
    "data.corr(numeric_only=True)['LandAverageTemperature']"
   ]
  },
  {
   "cell_type": "code",
   "execution_count": 14,
   "id": "915fef59",
   "metadata": {},
   "outputs": [],
   "source": [
    "from sklearn.model_selection import train_test_split"
   ]
  },
  {
   "cell_type": "code",
   "execution_count": 15,
   "id": "06383a76",
   "metadata": {},
   "outputs": [
    {
     "data": {
      "text/plain": [
       "((2553,), (2553, 9))"
      ]
     },
     "execution_count": 15,
     "metadata": {},
     "output_type": "execute_result"
    }
   ],
   "source": [
    "x_train, x_test, y_train, y_test = train_test_split(data.drop(['LandAverageTemperature'], axis=1), \n",
    "                                                    data['LandAverageTemperature'], test_size=0.2, random_state=0)\n",
    "y_train.shape, x_train.shape"
   ]
  },
  {
   "cell_type": "code",
   "execution_count": 16,
   "id": "bc5cddfc",
   "metadata": {},
   "outputs": [],
   "source": [
    "from sklearn.neighbors import KNeighborsRegressor"
   ]
  },
  {
   "cell_type": "code",
   "execution_count": 17,
   "id": "7f7f9637",
   "metadata": {},
   "outputs": [
    {
     "data": {
      "text/plain": [
       "0.9317850352936025"
      ]
     },
     "execution_count": 17,
     "metadata": {},
     "output_type": "execute_result"
    }
   ],
   "source": [
    "knn=KNeighborsRegressor(n_neighbors=2)\n",
    "knn.fit(x_train, y_train)\n",
    "knn.score(x_test, y_test)"
   ]
  }
 ],
 "metadata": {
  "kernelspec": {
   "display_name": "Python 3 (ipykernel)",
   "language": "python",
   "name": "python3"
  },
  "language_info": {
   "codemirror_mode": {
    "name": "ipython",
    "version": 3
   },
   "file_extension": ".py",
   "mimetype": "text/x-python",
   "name": "python",
   "nbconvert_exporter": "python",
   "pygments_lexer": "ipython3",
   "version": "3.10.7"
  }
 },
 "nbformat": 4,
 "nbformat_minor": 5
}
